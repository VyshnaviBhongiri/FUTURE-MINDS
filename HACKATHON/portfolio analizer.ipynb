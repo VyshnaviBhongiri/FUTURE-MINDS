{
  "nbformat": 4,
  "nbformat_minor": 0,
  "metadata": {
    "colab": {
      "provenance": []
    },
    "kernelspec": {
      "name": "python3",
      "display_name": "Python 3"
    },
    "language_info": {
      "name": "python"
    }
  },
  "cells": [
    {
      "cell_type": "code",
      "source": [
        "!pip install flask-ngrok\n"
      ],
      "metadata": {
        "colab": {
          "base_uri": "https://localhost:8080/"
        },
        "id": "ssBoVH7DXiJ5",
        "outputId": "c22791af-9c90-470b-dbe7-7b0ff6e94301"
      },
      "execution_count": 20,
      "outputs": [
        {
          "output_type": "stream",
          "name": "stdout",
          "text": [
            "Collecting flask-ngrok\n",
            "  Downloading flask_ngrok-0.0.25-py3-none-any.whl.metadata (1.8 kB)\n",
            "Requirement already satisfied: Flask>=0.8 in /usr/local/lib/python3.12/dist-packages (from flask-ngrok) (3.1.2)\n",
            "Requirement already satisfied: requests in /usr/local/lib/python3.12/dist-packages (from flask-ngrok) (2.32.4)\n",
            "Requirement already satisfied: blinker>=1.9.0 in /usr/local/lib/python3.12/dist-packages (from Flask>=0.8->flask-ngrok) (1.9.0)\n",
            "Requirement already satisfied: click>=8.1.3 in /usr/local/lib/python3.12/dist-packages (from Flask>=0.8->flask-ngrok) (8.2.1)\n",
            "Requirement already satisfied: itsdangerous>=2.2.0 in /usr/local/lib/python3.12/dist-packages (from Flask>=0.8->flask-ngrok) (2.2.0)\n",
            "Requirement already satisfied: jinja2>=3.1.2 in /usr/local/lib/python3.12/dist-packages (from Flask>=0.8->flask-ngrok) (3.1.6)\n",
            "Requirement already satisfied: markupsafe>=2.1.1 in /usr/local/lib/python3.12/dist-packages (from Flask>=0.8->flask-ngrok) (3.0.2)\n",
            "Requirement already satisfied: werkzeug>=3.1.0 in /usr/local/lib/python3.12/dist-packages (from Flask>=0.8->flask-ngrok) (3.1.3)\n",
            "Requirement already satisfied: charset_normalizer<4,>=2 in /usr/local/lib/python3.12/dist-packages (from requests->flask-ngrok) (3.4.3)\n",
            "Requirement already satisfied: idna<4,>=2.5 in /usr/local/lib/python3.12/dist-packages (from requests->flask-ngrok) (3.10)\n",
            "Requirement already satisfied: urllib3<3,>=1.21.1 in /usr/local/lib/python3.12/dist-packages (from requests->flask-ngrok) (2.5.0)\n",
            "Requirement already satisfied: certifi>=2017.4.17 in /usr/local/lib/python3.12/dist-packages (from requests->flask-ngrok) (2025.8.3)\n",
            "Downloading flask_ngrok-0.0.25-py3-none-any.whl (3.1 kB)\n",
            "Installing collected packages: flask-ngrok\n",
            "Successfully installed flask-ngrok-0.0.25\n"
          ]
        }
      ]
    },
    {
      "cell_type": "code",
      "source": [
        "# Cell 1 — install dependencies\n",
        "!pip install -q streamlit yfinance pyngrok pandas\n"
      ],
      "metadata": {
        "id": "D-g1MGdHYh7V"
      },
      "execution_count": 25,
      "outputs": []
    },
    {
      "cell_type": "code",
      "source": [
        "from flask import Flask\n",
        "from flask_ngrok import run_with_ngrok\n",
        "\n",
        "# Create Flask app\n",
        "app = Flask(__name__)\n",
        "run_with_ngrok(app)  # Start ngrok when app runs\n"
      ],
      "metadata": {
        "id": "XFl4SL7RXl82"
      },
      "execution_count": 26,
      "outputs": []
    },
    {
      "cell_type": "code",
      "source": [
        "# Cell 2 — write app.py\n",
        "%%bash\n",
        "cat > app.py <<'PY'\n",
        "import streamlit as st\n",
        "import yfinance as yf\n",
        "import pandas as pd\n",
        "\n",
        "st.set_page_config(page_title=\"Stock Consultant Agent\", layout=\"centered\")\n",
        "\n",
        "BILL_PER_PORTFOLIO = 2\n",
        "BILL_PER_ADVICE = 1\n",
        "\n",
        "@st.cache_data(ttl=300)\n",
        "def get_stock_info(symbol):\n",
        "    \"\"\"\n",
        "    Fetch last 5 day close prices and compute % change between first and last close.\n",
        "    For Indian NSE tickers we append .NS\n",
        "    \"\"\"\n",
        "    try:\n",
        "        ticker = symbol.upper().strip()\n",
        "        # If user provided something that already contains a suffix like .NS, keep it\n",
        "        if not (ticker.endswith(\".NS\") or ticker.endswith(\".BO\") or ticker.endswith(\".NSX\")):\n",
        "            ticker = ticker + \".NS\"\n",
        "        stock = yf.Ticker(ticker)\n",
        "        hist = stock.history(period=\"5d\")\n",
        "        if hist.empty or \"Close\" not in hist:\n",
        "            return None\n",
        "        price = hist[\"Close\"].iloc[-1]\n",
        "        change_pct = ((hist[\"Close\"].iloc[-1] - hist[\"Close\"].iloc[0]) / hist[\"Close\"].iloc[0]) * 100\n",
        "        sector = \"Unknown\"\n",
        "        try:\n",
        "            info = stock.info\n",
        "            sector = info.get(\"sector\", \"Unknown\")\n",
        "        except Exception:\n",
        "            sector = \"Unknown\"\n",
        "        return {\"Price\": round(price, 2), \"Change\": round(change_pct, 2), \"Sector\": sector}\n",
        "    except Exception:\n",
        "        return None\n",
        "\n",
        "def analyze_portfolio(portfolio):\n",
        "    advice = []\n",
        "    info_map = {}\n",
        "    known_sectors = []\n",
        "    for s in portfolio:\n",
        "        info = get_stock_info(s)\n",
        "        info_map[s] = info\n",
        "        if info:\n",
        "            sec = info.get(\"Sector\", \"Unknown\")\n",
        "            known_sectors.append(sec)\n",
        "            if info[\"Change\"] < -3:\n",
        "                advice.append(f\"You already hold {s}. Risk is high — consider reducing.\")\n",
        "            elif info[\"Change\"] > 2:\n",
        "                advice.append(f\"{s} is performing well. Safe to hold for now.\")\n",
        "            else:\n",
        "                advice.append(f\"{s} is stable. You may continue holding.\")\n",
        "        else:\n",
        "            advice.append(f\"Data for {s} not available. Please check ticker.\")\n",
        "    # diversification rule\n",
        "    non_unknown = [x for x in known_sectors if x != \"Unknown\"]\n",
        "    if len(non_unknown) > 1 and len(set(non_unknown)) == 1:\n",
        "        advice.append(\"Your portfolio is concentrated in one sector — consider diversification.\")\n",
        "    if not any((sec and sec.lower() == \"it\") for sec in non_unknown):\n",
        "        advice.append(\"Your portfolio lacks IT stocks — consider adding an IT company such as Infosys or TCS.\")\n",
        "    return advice, info_map\n",
        "\n",
        "# simple in-memory usage (resets on runtime restart)\n",
        "if \"usage\" not in st.session_state:\n",
        "    st.session_state.usage = {\"portfolios\": 0, \"advices\": 0, \"bill\": 0}\n",
        "\n",
        "st.title(\"📊 Stock Consultant Agent (Colab demo)\")\n",
        "st.write(\"Enter tickers (comma separated). Example: `TCS, RELIANCE, INFY`\")\n",
        "\n",
        "portfolio_input = st.text_input(\"Enter portfolio:\", \"TCS, RELIANCE\")\n",
        "\n",
        "if st.button(\"Analyze Portfolio\"):\n",
        "    if not portfolio_input.strip():\n",
        "        st.warning(\"Enter at least one ticker.\")\n",
        "    else:\n",
        "        portfolio = [t.strip().upper() for t in portfolio_input.split(\",\") if t.strip()]\n",
        "        advices, info_map = analyze_portfolio(portfolio)\n",
        "\n",
        "        st.session_state.usage[\"portfolios\"] += 1\n",
        "        st.session_state.usage[\"advices\"] += len(advices)\n",
        "        st.session_state.usage[\"bill\"] += BILL_PER_PORTFOLIO + BILL_PER_ADVICE * len(advices)\n",
        "\n",
        "        st.subheader(\"📌 Advice (plain English)\")\n",
        "        for a in advices:\n",
        "            st.write(\"- \" + a)\n",
        "\n",
        "        st.subheader(\"📑 Stock Data (latest)\")\n",
        "        rows = []\n",
        "        for s in portfolio:\n",
        "            info = info_map.get(s)\n",
        "            if info:\n",
        "                rows.append({\"Ticker\": s, \"Price\": info[\"Price\"], \"Change(5d%)\": info[\"Change\"], \"Sector\": info.get(\"Sector\",\"Unknown\")})\n",
        "            else:\n",
        "                rows.append({\"Ticker\": s, \"Price\": \"N/A\", \"Change(5d%)\": \"N/A\", \"Sector\": \"N/A\"})\n",
        "        st.dataframe(pd.DataFrame(rows))\n",
        "\n",
        "        st.subheader(\"📈 Usage & Billing (demo)\")\n",
        "        st.write(f\"Portfolios analyzed: {st.session_state.usage['portfolios']}\")\n",
        "        st.write(f\"Advices generated: {st.session_state.usage['advices']}\")\n",
        "        st.write(f\"Total bill (mock): ₹{st.session_state.usage['bill']}\")\n",
        "PY\n"
      ],
      "metadata": {
        "id": "sXZKT5iyYyCj"
      },
      "execution_count": 27,
      "outputs": []
    },
    {
      "cell_type": "code",
      "source": [
        "# Cell 3 — start streamlit in background\n",
        "# NOTE: allow a few seconds for the server to start before creating tunnel\n",
        "!nohup streamlit run app.py --server.port 8501 --server.headless true --server.enableCORS false > streamlit_out.log 2>&1 &\n",
        "# show last lines of log after a short pause\n",
        "!sleep 1\n",
        "!tail -n 40 streamlit_out.log"
      ],
      "metadata": {
        "colab": {
          "base_uri": "https://localhost:8080/"
        },
        "id": "HGxEppoDY51g",
        "outputId": "2e8ed5da-fdb9-43a0-8e41-a498f20aa06c"
      },
      "execution_count": 29,
      "outputs": [
        {
          "output_type": "stream",
          "name": "stdout",
          "text": [
            "2025-09-19 05:13:28.183 \n",
            "Warning: the config option 'server.enableCORS=false' is not compatible with\n",
            "'server.enableXsrfProtection=true'.\n",
            "As a result, 'server.enableCORS' is being overridden to 'true'.\n",
            "\n",
            "More information:\n",
            "In order to protect against CSRF attacks, we send a cookie with each request.\n",
            "To do so, we must specify allowable origins, which places a restriction on\n",
            "cross-origin resource sharing.\n",
            "\n",
            "If cross origin resource sharing is required, please disable server.enableXsrfProtection.\n",
            "            \n",
            "\n",
            "Collecting usage statistics. To deactivate, set browser.gatherUsageStats to false.\n",
            "\n"
          ]
        }
      ]
    },
    {
      "cell_type": "code",
      "source": [
        "# Cell 4 — connect ngrok (REPLACE the token string with your real ngrok v2 token)\n",
        "from pyngrok import ngrok\n",
        "import time\n",
        "\n",
        "# kill previous tunnels (if any)\n",
        "try:\n",
        "    ngrok.kill()\n",
        "except Exception:\n",
        "    pass\n",
        "\n",
        "# <-- REPLACE the string below with your real ngrok v2 authtoken (starts with \"2\") -->\n",
        "NGROK_TOKEN = \"32u8TJYIP9rzHir1jHLgdewvmSK_TGv9nuqUAHUZfRJiZDnc\"\n",
        "\n",
        "# register the token\n",
        "ngrok.set_auth_token(NGROK_TOKEN)\n",
        "\n",
        "# create tunnel to port 8501 (Streamlit)\n",
        "tunnel = ngrok.connect(addr=\"8501\", bind_tls=True)\n",
        "time.sleep(1)\n",
        "print(\"Public URL (open in browser):\", tunnel.public_url)\n"
      ],
      "metadata": {
        "colab": {
          "base_uri": "https://localhost:8080/"
        },
        "id": "UX0KHd1XZFQ_",
        "outputId": "5a809fc4-fe57-4e18-c7de-c12c75d7a709"
      },
      "execution_count": 31,
      "outputs": [
        {
          "output_type": "stream",
          "name": "stdout",
          "text": [
            "Public URL (open in browser): https://0c079835b0b2.ngrok-free.app\n"
          ]
        }
      ]
    },
    {
      "cell_type": "code",
      "source": [
        "# Cell 5 — show streamlit logs\n",
        "!tail -n 200 streamlit_out.log\n"
      ],
      "metadata": {
        "colab": {
          "base_uri": "https://localhost:8080/"
        },
        "id": "asyPCe1-bDpt",
        "outputId": "5b47a7b5-cbea-4080-e600-dc6340a6a021"
      },
      "execution_count": 32,
      "outputs": [
        {
          "output_type": "stream",
          "name": "stdout",
          "text": [
            "2025-09-19 05:13:28.183 \n",
            "Warning: the config option 'server.enableCORS=false' is not compatible with\n",
            "'server.enableXsrfProtection=true'.\n",
            "As a result, 'server.enableCORS' is being overridden to 'true'.\n",
            "\n",
            "More information:\n",
            "In order to protect against CSRF attacks, we send a cookie with each request.\n",
            "To do so, we must specify allowable origins, which places a restriction on\n",
            "cross-origin resource sharing.\n",
            "\n",
            "If cross origin resource sharing is required, please disable server.enableXsrfProtection.\n",
            "            \n",
            "\n",
            "Collecting usage statistics. To deactivate, set browser.gatherUsageStats to false.\n",
            "\n",
            "\n",
            "  You can now view your Streamlit app in your browser.\n",
            "\n",
            "  Local URL: http://localhost:8501\n",
            "  Network URL: http://172.28.0.12:8501\n",
            "  External URL: http://34.45.74.159:8501\n",
            "\n"
          ]
        }
      ]
    },
    {
      "cell_type": "code",
      "source": [
        "# Cell 6 — stop everything\n",
        "from pyngrok import ngrok\n",
        "ngrok.kill()\n",
        "# kill streamlit process if present\n",
        "!pkill -f streamlit || true\n",
        "print(\"Stopped ngrok and streamlit (if running).\")\n"
      ],
      "metadata": {
        "colab": {
          "base_uri": "https://localhost:8080/"
        },
        "id": "AvSKkdOebJVy",
        "outputId": "82983549-ef2d-411a-a538-156e54103fa4"
      },
      "execution_count": 33,
      "outputs": [
        {
          "output_type": "stream",
          "name": "stdout",
          "text": [
            "^C\n",
            "Stopped ngrok and streamlit (if running).\n"
          ]
        }
      ]
    },
    {
      "cell_type": "code",
      "source": [
        "import yfinance as yf\n",
        "print(yf.Ticker(\"RELIANCE.NS\").history(period=\"5d\").tail())\n"
      ],
      "metadata": {
        "colab": {
          "base_uri": "https://localhost:8080/"
        },
        "id": "yH-kXGOxbM0a",
        "outputId": "4635511f-308c-4198-ab03-765ac013307d"
      },
      "execution_count": 34,
      "outputs": [
        {
          "output_type": "stream",
          "name": "stdout",
          "text": [
            "                                  Open         High          Low        Close  \\\n",
            "Date                                                                            \n",
            "2025-09-15 00:00:00+05:30  1393.000000  1400.800049  1388.599976  1399.300049   \n",
            "2025-09-16 00:00:00+05:30  1404.699951  1408.000000  1398.199951  1405.300049   \n",
            "2025-09-17 00:00:00+05:30  1407.000000  1416.199951  1406.900024  1413.800049   \n",
            "2025-09-18 00:00:00+05:30  1420.400024  1422.000000  1410.699951  1415.000000   \n",
            "2025-09-19 00:00:00+05:30  1414.900024  1417.000000  1403.599976  1405.300049   \n",
            "\n",
            "                            Volume  Dividends  Stock Splits  \n",
            "Date                                                         \n",
            "2025-09-15 00:00:00+05:30  5396697        0.0           0.0  \n",
            "2025-09-16 00:00:00+05:30  8686961        0.0           0.0  \n",
            "2025-09-17 00:00:00+05:30  7519417        0.0           0.0  \n",
            "2025-09-18 00:00:00+05:30  9332642        0.0           0.0  \n",
            "2025-09-19 00:00:00+05:30  2062958        0.0           0.0  \n"
          ]
        }
      ]
    },
    {
      "cell_type": "code",
      "source": [
        "import pandas as pd\n",
        "\n",
        "# Sample stock data (you can later connect to a live API)\n",
        "data = {\n",
        "    \"Stock\": [\"TCS\", \"INFY\", \"HDFC\", \"RELIANCE\", \"WIPRO\"],\n",
        "    \"Price\": [3600, 1500, 2800, 2500, 550],\n",
        "    \"Sector\": [\"IT\", \"IT\", \"Finance\", \"Energy\", \"IT\"]\n",
        "}\n",
        "\n",
        "stock_df = pd.DataFrame(data)\n",
        "stock_df\n"
      ],
      "metadata": {
        "colab": {
          "base_uri": "https://localhost:8080/",
          "height": 206
        },
        "id": "3-WI76K_cAnO",
        "outputId": "be64b04e-a299-49aa-de80-42efad78696b"
      },
      "execution_count": 37,
      "outputs": [
        {
          "output_type": "execute_result",
          "data": {
            "text/plain": [
              "      Stock  Price   Sector\n",
              "0       TCS   3600       IT\n",
              "1      INFY   1500       IT\n",
              "2      HDFC   2800  Finance\n",
              "3  RELIANCE   2500   Energy\n",
              "4     WIPRO    550       IT"
            ],
            "text/html": [
              "\n",
              "  <div id=\"df-977aeab6-1682-483b-837e-f2566cc45207\" class=\"colab-df-container\">\n",
              "    <div>\n",
              "<style scoped>\n",
              "    .dataframe tbody tr th:only-of-type {\n",
              "        vertical-align: middle;\n",
              "    }\n",
              "\n",
              "    .dataframe tbody tr th {\n",
              "        vertical-align: top;\n",
              "    }\n",
              "\n",
              "    .dataframe thead th {\n",
              "        text-align: right;\n",
              "    }\n",
              "</style>\n",
              "<table border=\"1\" class=\"dataframe\">\n",
              "  <thead>\n",
              "    <tr style=\"text-align: right;\">\n",
              "      <th></th>\n",
              "      <th>Stock</th>\n",
              "      <th>Price</th>\n",
              "      <th>Sector</th>\n",
              "    </tr>\n",
              "  </thead>\n",
              "  <tbody>\n",
              "    <tr>\n",
              "      <th>0</th>\n",
              "      <td>TCS</td>\n",
              "      <td>3600</td>\n",
              "      <td>IT</td>\n",
              "    </tr>\n",
              "    <tr>\n",
              "      <th>1</th>\n",
              "      <td>INFY</td>\n",
              "      <td>1500</td>\n",
              "      <td>IT</td>\n",
              "    </tr>\n",
              "    <tr>\n",
              "      <th>2</th>\n",
              "      <td>HDFC</td>\n",
              "      <td>2800</td>\n",
              "      <td>Finance</td>\n",
              "    </tr>\n",
              "    <tr>\n",
              "      <th>3</th>\n",
              "      <td>RELIANCE</td>\n",
              "      <td>2500</td>\n",
              "      <td>Energy</td>\n",
              "    </tr>\n",
              "    <tr>\n",
              "      <th>4</th>\n",
              "      <td>WIPRO</td>\n",
              "      <td>550</td>\n",
              "      <td>IT</td>\n",
              "    </tr>\n",
              "  </tbody>\n",
              "</table>\n",
              "</div>\n",
              "    <div class=\"colab-df-buttons\">\n",
              "\n",
              "  <div class=\"colab-df-container\">\n",
              "    <button class=\"colab-df-convert\" onclick=\"convertToInteractive('df-977aeab6-1682-483b-837e-f2566cc45207')\"\n",
              "            title=\"Convert this dataframe to an interactive table.\"\n",
              "            style=\"display:none;\">\n",
              "\n",
              "  <svg xmlns=\"http://www.w3.org/2000/svg\" height=\"24px\" viewBox=\"0 -960 960 960\">\n",
              "    <path d=\"M120-120v-720h720v720H120Zm60-500h600v-160H180v160Zm220 220h160v-160H400v160Zm0 220h160v-160H400v160ZM180-400h160v-160H180v160Zm440 0h160v-160H620v160ZM180-180h160v-160H180v160Zm440 0h160v-160H620v160Z\"/>\n",
              "  </svg>\n",
              "    </button>\n",
              "\n",
              "  <style>\n",
              "    .colab-df-container {\n",
              "      display:flex;\n",
              "      gap: 12px;\n",
              "    }\n",
              "\n",
              "    .colab-df-convert {\n",
              "      background-color: #E8F0FE;\n",
              "      border: none;\n",
              "      border-radius: 50%;\n",
              "      cursor: pointer;\n",
              "      display: none;\n",
              "      fill: #1967D2;\n",
              "      height: 32px;\n",
              "      padding: 0 0 0 0;\n",
              "      width: 32px;\n",
              "    }\n",
              "\n",
              "    .colab-df-convert:hover {\n",
              "      background-color: #E2EBFA;\n",
              "      box-shadow: 0px 1px 2px rgba(60, 64, 67, 0.3), 0px 1px 3px 1px rgba(60, 64, 67, 0.15);\n",
              "      fill: #174EA6;\n",
              "    }\n",
              "\n",
              "    .colab-df-buttons div {\n",
              "      margin-bottom: 4px;\n",
              "    }\n",
              "\n",
              "    [theme=dark] .colab-df-convert {\n",
              "      background-color: #3B4455;\n",
              "      fill: #D2E3FC;\n",
              "    }\n",
              "\n",
              "    [theme=dark] .colab-df-convert:hover {\n",
              "      background-color: #434B5C;\n",
              "      box-shadow: 0px 1px 3px 1px rgba(0, 0, 0, 0.15);\n",
              "      filter: drop-shadow(0px 1px 2px rgba(0, 0, 0, 0.3));\n",
              "      fill: #FFFFFF;\n",
              "    }\n",
              "  </style>\n",
              "\n",
              "    <script>\n",
              "      const buttonEl =\n",
              "        document.querySelector('#df-977aeab6-1682-483b-837e-f2566cc45207 button.colab-df-convert');\n",
              "      buttonEl.style.display =\n",
              "        google.colab.kernel.accessAllowed ? 'block' : 'none';\n",
              "\n",
              "      async function convertToInteractive(key) {\n",
              "        const element = document.querySelector('#df-977aeab6-1682-483b-837e-f2566cc45207');\n",
              "        const dataTable =\n",
              "          await google.colab.kernel.invokeFunction('convertToInteractive',\n",
              "                                                    [key], {});\n",
              "        if (!dataTable) return;\n",
              "\n",
              "        const docLinkHtml = 'Like what you see? Visit the ' +\n",
              "          '<a target=\"_blank\" href=https://colab.research.google.com/notebooks/data_table.ipynb>data table notebook</a>'\n",
              "          + ' to learn more about interactive tables.';\n",
              "        element.innerHTML = '';\n",
              "        dataTable['output_type'] = 'display_data';\n",
              "        await google.colab.output.renderOutput(dataTable, element);\n",
              "        const docLink = document.createElement('div');\n",
              "        docLink.innerHTML = docLinkHtml;\n",
              "        element.appendChild(docLink);\n",
              "      }\n",
              "    </script>\n",
              "  </div>\n",
              "\n",
              "\n",
              "    <div id=\"df-e97a9390-f23f-407b-8d94-40330b9c6d00\">\n",
              "      <button class=\"colab-df-quickchart\" onclick=\"quickchart('df-e97a9390-f23f-407b-8d94-40330b9c6d00')\"\n",
              "                title=\"Suggest charts\"\n",
              "                style=\"display:none;\">\n",
              "\n",
              "<svg xmlns=\"http://www.w3.org/2000/svg\" height=\"24px\"viewBox=\"0 0 24 24\"\n",
              "     width=\"24px\">\n",
              "    <g>\n",
              "        <path d=\"M19 3H5c-1.1 0-2 .9-2 2v14c0 1.1.9 2 2 2h14c1.1 0 2-.9 2-2V5c0-1.1-.9-2-2-2zM9 17H7v-7h2v7zm4 0h-2V7h2v10zm4 0h-2v-4h2v4z\"/>\n",
              "    </g>\n",
              "</svg>\n",
              "      </button>\n",
              "\n",
              "<style>\n",
              "  .colab-df-quickchart {\n",
              "      --bg-color: #E8F0FE;\n",
              "      --fill-color: #1967D2;\n",
              "      --hover-bg-color: #E2EBFA;\n",
              "      --hover-fill-color: #174EA6;\n",
              "      --disabled-fill-color: #AAA;\n",
              "      --disabled-bg-color: #DDD;\n",
              "  }\n",
              "\n",
              "  [theme=dark] .colab-df-quickchart {\n",
              "      --bg-color: #3B4455;\n",
              "      --fill-color: #D2E3FC;\n",
              "      --hover-bg-color: #434B5C;\n",
              "      --hover-fill-color: #FFFFFF;\n",
              "      --disabled-bg-color: #3B4455;\n",
              "      --disabled-fill-color: #666;\n",
              "  }\n",
              "\n",
              "  .colab-df-quickchart {\n",
              "    background-color: var(--bg-color);\n",
              "    border: none;\n",
              "    border-radius: 50%;\n",
              "    cursor: pointer;\n",
              "    display: none;\n",
              "    fill: var(--fill-color);\n",
              "    height: 32px;\n",
              "    padding: 0;\n",
              "    width: 32px;\n",
              "  }\n",
              "\n",
              "  .colab-df-quickchart:hover {\n",
              "    background-color: var(--hover-bg-color);\n",
              "    box-shadow: 0 1px 2px rgba(60, 64, 67, 0.3), 0 1px 3px 1px rgba(60, 64, 67, 0.15);\n",
              "    fill: var(--button-hover-fill-color);\n",
              "  }\n",
              "\n",
              "  .colab-df-quickchart-complete:disabled,\n",
              "  .colab-df-quickchart-complete:disabled:hover {\n",
              "    background-color: var(--disabled-bg-color);\n",
              "    fill: var(--disabled-fill-color);\n",
              "    box-shadow: none;\n",
              "  }\n",
              "\n",
              "  .colab-df-spinner {\n",
              "    border: 2px solid var(--fill-color);\n",
              "    border-color: transparent;\n",
              "    border-bottom-color: var(--fill-color);\n",
              "    animation:\n",
              "      spin 1s steps(1) infinite;\n",
              "  }\n",
              "\n",
              "  @keyframes spin {\n",
              "    0% {\n",
              "      border-color: transparent;\n",
              "      border-bottom-color: var(--fill-color);\n",
              "      border-left-color: var(--fill-color);\n",
              "    }\n",
              "    20% {\n",
              "      border-color: transparent;\n",
              "      border-left-color: var(--fill-color);\n",
              "      border-top-color: var(--fill-color);\n",
              "    }\n",
              "    30% {\n",
              "      border-color: transparent;\n",
              "      border-left-color: var(--fill-color);\n",
              "      border-top-color: var(--fill-color);\n",
              "      border-right-color: var(--fill-color);\n",
              "    }\n",
              "    40% {\n",
              "      border-color: transparent;\n",
              "      border-right-color: var(--fill-color);\n",
              "      border-top-color: var(--fill-color);\n",
              "    }\n",
              "    60% {\n",
              "      border-color: transparent;\n",
              "      border-right-color: var(--fill-color);\n",
              "    }\n",
              "    80% {\n",
              "      border-color: transparent;\n",
              "      border-right-color: var(--fill-color);\n",
              "      border-bottom-color: var(--fill-color);\n",
              "    }\n",
              "    90% {\n",
              "      border-color: transparent;\n",
              "      border-bottom-color: var(--fill-color);\n",
              "    }\n",
              "  }\n",
              "</style>\n",
              "\n",
              "      <script>\n",
              "        async function quickchart(key) {\n",
              "          const quickchartButtonEl =\n",
              "            document.querySelector('#' + key + ' button');\n",
              "          quickchartButtonEl.disabled = true;  // To prevent multiple clicks.\n",
              "          quickchartButtonEl.classList.add('colab-df-spinner');\n",
              "          try {\n",
              "            const charts = await google.colab.kernel.invokeFunction(\n",
              "                'suggestCharts', [key], {});\n",
              "          } catch (error) {\n",
              "            console.error('Error during call to suggestCharts:', error);\n",
              "          }\n",
              "          quickchartButtonEl.classList.remove('colab-df-spinner');\n",
              "          quickchartButtonEl.classList.add('colab-df-quickchart-complete');\n",
              "        }\n",
              "        (() => {\n",
              "          let quickchartButtonEl =\n",
              "            document.querySelector('#df-e97a9390-f23f-407b-8d94-40330b9c6d00 button');\n",
              "          quickchartButtonEl.style.display =\n",
              "            google.colab.kernel.accessAllowed ? 'block' : 'none';\n",
              "        })();\n",
              "      </script>\n",
              "    </div>\n",
              "\n",
              "  <div id=\"id_0d0db135-89f8-4df2-a575-2e65c68df702\">\n",
              "    <style>\n",
              "      .colab-df-generate {\n",
              "        background-color: #E8F0FE;\n",
              "        border: none;\n",
              "        border-radius: 50%;\n",
              "        cursor: pointer;\n",
              "        display: none;\n",
              "        fill: #1967D2;\n",
              "        height: 32px;\n",
              "        padding: 0 0 0 0;\n",
              "        width: 32px;\n",
              "      }\n",
              "\n",
              "      .colab-df-generate:hover {\n",
              "        background-color: #E2EBFA;\n",
              "        box-shadow: 0px 1px 2px rgba(60, 64, 67, 0.3), 0px 1px 3px 1px rgba(60, 64, 67, 0.15);\n",
              "        fill: #174EA6;\n",
              "      }\n",
              "\n",
              "      [theme=dark] .colab-df-generate {\n",
              "        background-color: #3B4455;\n",
              "        fill: #D2E3FC;\n",
              "      }\n",
              "\n",
              "      [theme=dark] .colab-df-generate:hover {\n",
              "        background-color: #434B5C;\n",
              "        box-shadow: 0px 1px 3px 1px rgba(0, 0, 0, 0.15);\n",
              "        filter: drop-shadow(0px 1px 2px rgba(0, 0, 0, 0.3));\n",
              "        fill: #FFFFFF;\n",
              "      }\n",
              "    </style>\n",
              "    <button class=\"colab-df-generate\" onclick=\"generateWithVariable('stock_df')\"\n",
              "            title=\"Generate code using this dataframe.\"\n",
              "            style=\"display:none;\">\n",
              "\n",
              "  <svg xmlns=\"http://www.w3.org/2000/svg\" height=\"24px\"viewBox=\"0 0 24 24\"\n",
              "       width=\"24px\">\n",
              "    <path d=\"M7,19H8.4L18.45,9,17,7.55,7,17.6ZM5,21V16.75L18.45,3.32a2,2,0,0,1,2.83,0l1.4,1.43a1.91,1.91,0,0,1,.58,1.4,1.91,1.91,0,0,1-.58,1.4L9.25,21ZM18.45,9,17,7.55Zm-12,3A5.31,5.31,0,0,0,4.9,8.1,5.31,5.31,0,0,0,1,6.5,5.31,5.31,0,0,0,4.9,4.9,5.31,5.31,0,0,0,6.5,1,5.31,5.31,0,0,0,8.1,4.9,5.31,5.31,0,0,0,12,6.5,5.46,5.46,0,0,0,6.5,12Z\"/>\n",
              "  </svg>\n",
              "    </button>\n",
              "    <script>\n",
              "      (() => {\n",
              "      const buttonEl =\n",
              "        document.querySelector('#id_0d0db135-89f8-4df2-a575-2e65c68df702 button.colab-df-generate');\n",
              "      buttonEl.style.display =\n",
              "        google.colab.kernel.accessAllowed ? 'block' : 'none';\n",
              "\n",
              "      buttonEl.onclick = () => {\n",
              "        google.colab.notebook.generateWithVariable('stock_df');\n",
              "      }\n",
              "      })();\n",
              "    </script>\n",
              "  </div>\n",
              "\n",
              "    </div>\n",
              "  </div>\n"
            ],
            "application/vnd.google.colaboratory.intrinsic+json": {
              "type": "dataframe",
              "variable_name": "stock_df",
              "summary": "{\n  \"name\": \"stock_df\",\n  \"rows\": 5,\n  \"fields\": [\n    {\n      \"column\": \"Stock\",\n      \"properties\": {\n        \"dtype\": \"string\",\n        \"num_unique_values\": 5,\n        \"samples\": [\n          \"INFY\",\n          \"WIPRO\",\n          \"HDFC\"\n        ],\n        \"semantic_type\": \"\",\n        \"description\": \"\"\n      }\n    },\n    {\n      \"column\": \"Price\",\n      \"properties\": {\n        \"dtype\": \"number\",\n        \"std\": 1185,\n        \"min\": 550,\n        \"max\": 3600,\n        \"num_unique_values\": 5,\n        \"samples\": [\n          1500,\n          550,\n          2800\n        ],\n        \"semantic_type\": \"\",\n        \"description\": \"\"\n      }\n    },\n    {\n      \"column\": \"Sector\",\n      \"properties\": {\n        \"dtype\": \"string\",\n        \"num_unique_values\": 3,\n        \"samples\": [\n          \"IT\",\n          \"Finance\",\n          \"Energy\"\n        ],\n        \"semantic_type\": \"\",\n        \"description\": \"\"\n      }\n    }\n  ]\n}"
            }
          },
          "metadata": {},
          "execution_count": 37
        }
      ]
    },
    {
      "cell_type": "code",
      "source": [
        "def analyze_portfolio(portfolio):\n",
        "    advice = []\n",
        "\n",
        "    for stock in portfolio:\n",
        "        if stock not in stock_df[\"Stock\"].values:\n",
        "            advice.append(f\"{stock}: Not found in database ❌\")\n",
        "            continue\n",
        "\n",
        "        price = stock_df.loc[stock_df[\"Stock\"] == stock, \"Price\"].values[0]\n",
        "\n",
        "        if price > 3000:\n",
        "            advice.append(f\"{stock}: Price is high ({price}). Consider reducing ⚠️\")\n",
        "        elif price < 1000:\n",
        "            advice.append(f\"{stock}: Looks undervalued ({price}). Consider adding ✅\")\n",
        "        else:\n",
        "            advice.append(f\"{stock}: Fairly priced at {price}. Hold 🟢\")\n",
        "\n",
        "    # Diversification check\n",
        "    sectors = stock_df[stock_df[\"Stock\"].isin(portfolio)][\"Sector\"].unique()\n",
        "    if len(sectors) < 2:\n",
        "        advice.append(\"⚠️ Your portfolio lacks diversification. Try adding stocks from other sectors.\")\n",
        "\n",
        "    return advice\n"
      ],
      "metadata": {
        "id": "3Ks3NH1mcClD"
      },
      "execution_count": 38,
      "outputs": []
    },
    {
      "cell_type": "code",
      "source": [
        "# @app.route(\"/analyze\", methods=[\"GET\"])\n",
        "# def analyze_portfolio_route():\n",
        "#     stocks = request.args.get(\"stocks\", \"\")\n",
        "#     portfolio = [s.strip().upper() for s in stocks.split(\",\") if s.strip()]\n",
        "\n",
        "#     if not portfolio:\n",
        "#         return \"Please provide stocks in URL like: /analyze?stocks=TCS,INFY,HDFC\"\n",
        "\n",
        "#     result = analyze_portfolio(portfolio)\n",
        "#     return \"<br>\".join(result)"
      ],
      "metadata": {
        "id": "AHSl0okbcGQY"
      },
      "execution_count": 50,
      "outputs": []
    },
    {
      "cell_type": "code",
      "source": [
        "!pip install gunicorn\n",
        "!gunicorn -w 4 -b 0.0.0.0:5000 app:app\n"
      ],
      "metadata": {
        "colab": {
          "base_uri": "https://localhost:8080/"
        },
        "id": "Z40woR2UdY7Q",
        "outputId": "c8cf6b62-7d5f-4882-ee63-812981d5d9d9"
      },
      "execution_count": 59,
      "outputs": [
        {
          "output_type": "stream",
          "name": "stdout",
          "text": [
            "[2025-09-19 06:26:12 +0000] [22526] [INFO] Handling signal: int\n",
            "[2025-09-19 06:26:12 +0000] [22530] [INFO] Worker exiting (pid: 22530)\n",
            "[2025-09-19 06:26:12 +0000] [22529] [INFO] Worker exiting (pid: 22529)\n",
            "[2025-09-19 06:26:12 +0000] [22527] [INFO] Worker exiting (pid: 22527)\n",
            "[2025-09-19 06:26:12 +0000] [22528] [INFO] Worker exiting (pid: 22528)\n",
            "[2025-09-19 06:26:12 +0000] [22526] [INFO] Shutting down: Master\n"
          ]
        }
      ]
    },
    {
      "cell_type": "code",
      "source": [
        "!pip install pyngrok\n",
        "\n",
        "from pyngrok import ngrok\n",
        "from flask import Flask\n",
        "\n",
        "app = Flask(__name__)\n",
        "\n",
        "@app.route(\"/\")\n",
        "def home():\n",
        "    return \"Hello from Flask with pyngrok 🚀\"\n",
        "\n",
        "# Start ngrok tunnel\n",
        "public_url = ngrok.connect(5000)\n",
        "print(\"Public URL:\", public_url)\n",
        "\n",
        "app.run(port=5000)\n"
      ],
      "metadata": {
        "colab": {
          "base_uri": "https://localhost:8080/"
        },
        "id": "-zfgDPYFddOB",
        "outputId": "bbfc13ce-9f94-4181-fe25-fbd4a8acbde1"
      },
      "execution_count": 58,
      "outputs": [
        {
          "output_type": "stream",
          "name": "stdout",
          "text": [
            "Requirement already satisfied: pyngrok in /usr/local/lib/python3.12/dist-packages (7.3.0)\n",
            "Requirement already satisfied: PyYAML>=5.1 in /usr/local/lib/python3.12/dist-packages (from pyngrok) (6.0.2)\n",
            "Public URL: NgrokTunnel: \"https://e9e005231bcc.ngrok-free.app\" -> \"http://localhost:5000\"\n",
            " * Serving Flask app '__main__'\n",
            " * Debug mode: off\n"
          ]
        },
        {
          "output_type": "stream",
          "name": "stderr",
          "text": [
            "INFO:werkzeug:\u001b[31m\u001b[1mWARNING: This is a development server. Do not use it in a production deployment. Use a production WSGI server instead.\u001b[0m\n",
            " * Running on http://127.0.0.1:5000\n",
            "INFO:werkzeug:\u001b[33mPress CTRL+C to quit\u001b[0m\n"
          ]
        }
      ]
    },
    {
      "cell_type": "code",
      "source": [
        "# Global counters\n",
        "usage_stats = {\n",
        "    \"portfolios_analyzed\": 0,\n",
        "    \"advices_generated\": 0,\n",
        "    \"bill\": 0\n",
        "}\n",
        "\n",
        "@app.route(\"/analyze\", methods=[\"GET\"])\n",
        "def analyze_portfolio_route():\n",
        "    stocks = request.args.get(\"stocks\", \"\")\n",
        "    portfolio = [s.strip().upper() for s in stocks.split(\",\") if s.strip()]\n",
        "\n",
        "    if not portfolio:\n",
        "        return \"32u8TJYIP9rzHir1jHLgdewvmSK_TGv9nuqUAHUZfRJiZDnc\"\n",
        "\n",
        "    # Update usage stats\n",
        "    usage_stats[\"portfolios_analyzed\"] += 1\n",
        "    usage_stats[\"bill\"] += 10  # e.g. ₹10 per portfolio analyzed\n",
        "\n",
        "    result = analyze_portfolio(portfolio)\n",
        "\n",
        "    # Update advice count and billing\n",
        "    usage_stats[\"advices_generated\"] += len(result)\n",
        "    usage_stats[\"bill\"] += len(result) * 2  # e.g. ₹2 per advice\n",
        "\n",
        "    return \"<br>\".join(result)\n",
        "\n",
        "@app.route(\"/usage\", methods=[\"GET\"])\n",
        "def show_usage():\n",
        "    return f\"\"\"\n",
        "    <h2>📊 Usage Stats</h2>\n",
        "    Portfolios analyzed: {usage_stats['portfolios_analyzed']}<br>\n",
        "    Advices generated: {usage_stats['advices_generated']}<br>\n",
        "    Total Bill: ₹{usage_stats['bill']}\n",
        "    \"\"\"\n"
      ],
      "metadata": {
        "colab": {
          "base_uri": "https://localhost:8080/",
          "height": 356
        },
        "id": "9oMZ9OaRdmEY",
        "outputId": "aaa5834e-0247-4851-ace4-10ff5d748dd6"
      },
      "execution_count": 61,
      "outputs": [
        {
          "output_type": "error",
          "ename": "AssertionError",
          "evalue": "View function mapping is overwriting an existing endpoint function: analyze_portfolio_route",
          "traceback": [
            "\u001b[0;31m---------------------------------------------------------------------------\u001b[0m",
            "\u001b[0;31mAssertionError\u001b[0m                            Traceback (most recent call last)",
            "\u001b[0;32m/tmp/ipython-input-2879793456.py\u001b[0m in \u001b[0;36m<cell line: 0>\u001b[0;34m()\u001b[0m\n\u001b[1;32m      6\u001b[0m }\n\u001b[1;32m      7\u001b[0m \u001b[0;34m\u001b[0m\u001b[0m\n\u001b[0;32m----> 8\u001b[0;31m \u001b[0;34m@\u001b[0m\u001b[0mapp\u001b[0m\u001b[0;34m.\u001b[0m\u001b[0mroute\u001b[0m\u001b[0;34m(\u001b[0m\u001b[0;34m\"/analyze\"\u001b[0m\u001b[0;34m,\u001b[0m \u001b[0mmethods\u001b[0m\u001b[0;34m=\u001b[0m\u001b[0;34m[\u001b[0m\u001b[0;34m\"GET\"\u001b[0m\u001b[0;34m]\u001b[0m\u001b[0;34m)\u001b[0m\u001b[0;34m\u001b[0m\u001b[0;34m\u001b[0m\u001b[0m\n\u001b[0m\u001b[1;32m      9\u001b[0m \u001b[0;32mdef\u001b[0m \u001b[0manalyze_portfolio_route\u001b[0m\u001b[0;34m(\u001b[0m\u001b[0;34m)\u001b[0m\u001b[0;34m:\u001b[0m\u001b[0;34m\u001b[0m\u001b[0;34m\u001b[0m\u001b[0m\n\u001b[1;32m     10\u001b[0m     \u001b[0mstocks\u001b[0m \u001b[0;34m=\u001b[0m \u001b[0mrequest\u001b[0m\u001b[0;34m.\u001b[0m\u001b[0margs\u001b[0m\u001b[0;34m.\u001b[0m\u001b[0mget\u001b[0m\u001b[0;34m(\u001b[0m\u001b[0;34m\"stocks\"\u001b[0m\u001b[0;34m,\u001b[0m \u001b[0;34m\"\"\u001b[0m\u001b[0;34m)\u001b[0m\u001b[0;34m\u001b[0m\u001b[0;34m\u001b[0m\u001b[0m\n",
            "\u001b[0;32m/usr/local/lib/python3.12/dist-packages/flask/sansio/scaffold.py\u001b[0m in \u001b[0;36mdecorator\u001b[0;34m(f)\u001b[0m\n\u001b[1;32m    360\u001b[0m         \u001b[0;32mdef\u001b[0m \u001b[0mdecorator\u001b[0m\u001b[0;34m(\u001b[0m\u001b[0mf\u001b[0m\u001b[0;34m:\u001b[0m \u001b[0mT_route\u001b[0m\u001b[0;34m)\u001b[0m \u001b[0;34m->\u001b[0m \u001b[0mT_route\u001b[0m\u001b[0;34m:\u001b[0m\u001b[0;34m\u001b[0m\u001b[0;34m\u001b[0m\u001b[0m\n\u001b[1;32m    361\u001b[0m             \u001b[0mendpoint\u001b[0m \u001b[0;34m=\u001b[0m \u001b[0moptions\u001b[0m\u001b[0;34m.\u001b[0m\u001b[0mpop\u001b[0m\u001b[0;34m(\u001b[0m\u001b[0;34m\"endpoint\"\u001b[0m\u001b[0;34m,\u001b[0m \u001b[0;32mNone\u001b[0m\u001b[0;34m)\u001b[0m\u001b[0;34m\u001b[0m\u001b[0;34m\u001b[0m\u001b[0m\n\u001b[0;32m--> 362\u001b[0;31m             \u001b[0mself\u001b[0m\u001b[0;34m.\u001b[0m\u001b[0madd_url_rule\u001b[0m\u001b[0;34m(\u001b[0m\u001b[0mrule\u001b[0m\u001b[0;34m,\u001b[0m \u001b[0mendpoint\u001b[0m\u001b[0;34m,\u001b[0m \u001b[0mf\u001b[0m\u001b[0;34m,\u001b[0m \u001b[0;34m**\u001b[0m\u001b[0moptions\u001b[0m\u001b[0;34m)\u001b[0m\u001b[0;34m\u001b[0m\u001b[0;34m\u001b[0m\u001b[0m\n\u001b[0m\u001b[1;32m    363\u001b[0m             \u001b[0;32mreturn\u001b[0m \u001b[0mf\u001b[0m\u001b[0;34m\u001b[0m\u001b[0;34m\u001b[0m\u001b[0m\n\u001b[1;32m    364\u001b[0m \u001b[0;34m\u001b[0m\u001b[0m\n",
            "\u001b[0;32m/usr/local/lib/python3.12/dist-packages/flask/sansio/scaffold.py\u001b[0m in \u001b[0;36mwrapper_func\u001b[0;34m(self, *args, **kwargs)\u001b[0m\n\u001b[1;32m     45\u001b[0m     \u001b[0;32mdef\u001b[0m \u001b[0mwrapper_func\u001b[0m\u001b[0;34m(\u001b[0m\u001b[0mself\u001b[0m\u001b[0;34m:\u001b[0m \u001b[0mScaffold\u001b[0m\u001b[0;34m,\u001b[0m \u001b[0;34m*\u001b[0m\u001b[0margs\u001b[0m\u001b[0;34m:\u001b[0m \u001b[0mt\u001b[0m\u001b[0;34m.\u001b[0m\u001b[0mAny\u001b[0m\u001b[0;34m,\u001b[0m \u001b[0;34m**\u001b[0m\u001b[0mkwargs\u001b[0m\u001b[0;34m:\u001b[0m \u001b[0mt\u001b[0m\u001b[0;34m.\u001b[0m\u001b[0mAny\u001b[0m\u001b[0;34m)\u001b[0m \u001b[0;34m->\u001b[0m \u001b[0mt\u001b[0m\u001b[0;34m.\u001b[0m\u001b[0mAny\u001b[0m\u001b[0;34m:\u001b[0m\u001b[0;34m\u001b[0m\u001b[0;34m\u001b[0m\u001b[0m\n\u001b[1;32m     46\u001b[0m         \u001b[0mself\u001b[0m\u001b[0;34m.\u001b[0m\u001b[0m_check_setup_finished\u001b[0m\u001b[0;34m(\u001b[0m\u001b[0mf_name\u001b[0m\u001b[0;34m)\u001b[0m\u001b[0;34m\u001b[0m\u001b[0;34m\u001b[0m\u001b[0m\n\u001b[0;32m---> 47\u001b[0;31m         \u001b[0;32mreturn\u001b[0m \u001b[0mf\u001b[0m\u001b[0;34m(\u001b[0m\u001b[0mself\u001b[0m\u001b[0;34m,\u001b[0m \u001b[0;34m*\u001b[0m\u001b[0margs\u001b[0m\u001b[0;34m,\u001b[0m \u001b[0;34m**\u001b[0m\u001b[0mkwargs\u001b[0m\u001b[0;34m)\u001b[0m\u001b[0;34m\u001b[0m\u001b[0;34m\u001b[0m\u001b[0m\n\u001b[0m\u001b[1;32m     48\u001b[0m \u001b[0;34m\u001b[0m\u001b[0m\n\u001b[1;32m     49\u001b[0m     \u001b[0;32mreturn\u001b[0m \u001b[0mt\u001b[0m\u001b[0;34m.\u001b[0m\u001b[0mcast\u001b[0m\u001b[0;34m(\u001b[0m\u001b[0mF\u001b[0m\u001b[0;34m,\u001b[0m \u001b[0mupdate_wrapper\u001b[0m\u001b[0;34m(\u001b[0m\u001b[0mwrapper_func\u001b[0m\u001b[0;34m,\u001b[0m \u001b[0mf\u001b[0m\u001b[0;34m)\u001b[0m\u001b[0;34m)\u001b[0m\u001b[0;34m\u001b[0m\u001b[0;34m\u001b[0m\u001b[0m\n",
            "\u001b[0;32m/usr/local/lib/python3.12/dist-packages/flask/sansio/app.py\u001b[0m in \u001b[0;36madd_url_rule\u001b[0;34m(self, rule, endpoint, view_func, provide_automatic_options, **options)\u001b[0m\n\u001b[1;32m    655\u001b[0m             \u001b[0mold_func\u001b[0m \u001b[0;34m=\u001b[0m \u001b[0mself\u001b[0m\u001b[0;34m.\u001b[0m\u001b[0mview_functions\u001b[0m\u001b[0;34m.\u001b[0m\u001b[0mget\u001b[0m\u001b[0;34m(\u001b[0m\u001b[0mendpoint\u001b[0m\u001b[0;34m)\u001b[0m\u001b[0;34m\u001b[0m\u001b[0;34m\u001b[0m\u001b[0m\n\u001b[1;32m    656\u001b[0m             \u001b[0;32mif\u001b[0m \u001b[0mold_func\u001b[0m \u001b[0;32mis\u001b[0m \u001b[0;32mnot\u001b[0m \u001b[0;32mNone\u001b[0m \u001b[0;32mand\u001b[0m \u001b[0mold_func\u001b[0m \u001b[0;34m!=\u001b[0m \u001b[0mview_func\u001b[0m\u001b[0;34m:\u001b[0m\u001b[0;34m\u001b[0m\u001b[0;34m\u001b[0m\u001b[0m\n\u001b[0;32m--> 657\u001b[0;31m                 raise AssertionError(\n\u001b[0m\u001b[1;32m    658\u001b[0m                     \u001b[0;34m\"View function mapping is overwriting an existing\"\u001b[0m\u001b[0;34m\u001b[0m\u001b[0;34m\u001b[0m\u001b[0m\n\u001b[1;32m    659\u001b[0m                     \u001b[0;34mf\" endpoint function: {endpoint}\"\u001b[0m\u001b[0;34m\u001b[0m\u001b[0;34m\u001b[0m\u001b[0m\n",
            "\u001b[0;31mAssertionError\u001b[0m: View function mapping is overwriting an existing endpoint function: analyze_portfolio_route"
          ]
        }
      ]
    },
    {
      "cell_type": "markdown",
      "metadata": {
        "id": "af92fd6e"
      },
      "source": [
        "### Set up ngrok tunnel for Flask app\n",
        "\n",
        "This cell will set up an ngrok tunnel to port 5000, where the Flask app is running. Make sure the previous cell with the `gunicorn` command is still running."
      ]
    },
    {
      "cell_type": "code",
      "metadata": {
        "colab": {
          "base_uri": "https://localhost:8080/"
        },
        "id": "e55f0da3",
        "outputId": "025e0932-8c28-4a12-9c1a-596657e47f40"
      },
      "source": [
        "from pyngrok import ngrok\n",
        "import time\n",
        "\n",
        "# kill previous tunnels (if any)\n",
        "try:\n",
        "    ngrok.kill()\n",
        "except Exception:\n",
        "    pass\n",
        "\n",
        "# <-- REPLACE the string below with your real ngrok v2 authtoken (starts with \"2\") -->\n",
        "NGROK_TOKEN = \"32u8TJYIP9rzHir1jHLgdewvmSK_TGv9nuqUAHUZfRJiZDnc\"\n",
        "\n",
        "# register the token\n",
        "ngrok.set_auth_token(NGROK_TOKEN)\n",
        "\n",
        "# create tunnel to port 5000 (Flask)\n",
        "tunnel = ngrok.connect(addr=\"5000\", bind_tls=True)\n",
        "time.sleep(1)\n",
        "print(\"Public URL (open in browser):\", tunnel.public_url)"
      ],
      "execution_count": 64,
      "outputs": [
        {
          "output_type": "stream",
          "name": "stdout",
          "text": [
            "Public URL (open in browser): https://4c369c968cec.ngrok-free.app\n"
          ]
        }
      ]
    },
    {
      "cell_type": "markdown",
      "metadata": {
        "id": "50da7365"
      },
      "source": [
        "# Task\n",
        "Explain the error in the selected code. If possible, fix the error and incorporate the changes into the existing code. Otherwise, try to diagnose the error."
      ]
    },
    {
      "cell_type": "markdown",
      "metadata": {
        "id": "352f81c6"
      },
      "source": [
        "## Modify app.py\n",
        "\n",
        "### Subtask:\n",
        "Update the `app.py` file to contain only the Flask application code and its routes (from the notebook cells `AHSl0okbcGQY` and `9oMZ9OaRdmEY`), removing the Streamlit specific code.\n"
      ]
    },
    {
      "cell_type": "markdown",
      "metadata": {
        "id": "ce552c79"
      },
      "source": [
        "**Reasoning**:\n",
        "The subtask is to update the `app.py` file with the Flask application code, removing the Streamlit code. This requires writing the complete Flask application including imports, data, functions, and routes into the `app.py` file.\n",
        "\n"
      ]
    },
    {
      "cell_type": "code",
      "metadata": {
        "colab": {
          "base_uri": "https://localhost:8080/"
        },
        "id": "773a8ab4",
        "outputId": "851df05f-ffa0-4936-a534-abbfe750b763"
      },
      "source": [
        "%%writefile app.py\n",
        "from flask import Flask, request\n",
        "import pandas as pd\n",
        "\n",
        "# Sample stock data (you can later connect to a live API)\n",
        "data = {\n",
        "    \"Stock\": [\"TCS\", \"INFY\", \"HDFC\", \"RELIANCE\", \"WIPRO\"],\n",
        "    \"Price\": [3600, 1500, 2800, 2500, 550],\n",
        "    \"Sector\": [\"IT\", \"IT\", \"Finance\", \"Energy\", \"IT\"]\n",
        "}\n",
        "\n",
        "stock_df = pd.DataFrame(data)\n",
        "\n",
        "def analyze_portfolio(portfolio):\n",
        "    advice = []\n",
        "\n",
        "    for stock in portfolio:\n",
        "        if stock not in stock_df[\"Stock\"].values:\n",
        "            advice.append(f\"{stock}: Not found in database ❌\")\n",
        "            continue\n",
        "\n",
        "        price = stock_df.loc[stock_df[\"Stock\"] == stock, \"Price\"].values[0]\n",
        "\n",
        "        if price > 3000:\n",
        "            advice.append(f\"{stock}: Price is high ({price}). Consider reducing ⚠️\")\n",
        "        elif price < 1000:\n",
        "            advice.append(f\"{stock}: Looks undervalued ({price}). Consider adding ✅\")\n",
        "        else:\n",
        "            advice.append(f\"{stock}: Fairly priced at {price}. Hold 🟢\")\n",
        "\n",
        "    # Diversification check\n",
        "    sectors = stock_df[stock_df[\"Stock\"].isin(portfolio)][\"Sector\"].unique()\n",
        "    if len(sectors) < 2:\n",
        "        advice.append(\"⚠️ Your portfolio lacks diversification. Try adding stocks from other sectors.\")\n",
        "\n",
        "    return advice\n",
        "\n",
        "# Global counters\n",
        "usage_stats = {\n",
        "    \"portfolios_analyzed\": 0,\n",
        "    \"advices_generated\": 0,\n",
        "    \"bill\": 0\n",
        "}\n",
        "\n",
        "# Create Flask app\n",
        "app = Flask(__name__)\n",
        "\n",
        "@app.route(\"/\")\n",
        "def home():\n",
        "    return \"Hello from Flask! Use /analyze?stocks=TCS,INFY to analyze a portfolio.\"\n",
        "\n",
        "@app.route(\"/analyze\", methods=[\"GET\"])\n",
        "def analyze_portfolio_route():\n",
        "    stocks = request.args.get(\"stocks\", \"\")\n",
        "    portfolio = [s.strip().upper() for s in stocks.split(\",\") if s.strip()]\n",
        "\n",
        "    if not portfolio:\n",
        "        return \"Please provide stocks in URL like: /analyze?stocks=TCS,INFY,HDFC\"\n",
        "\n",
        "    # Update usage stats\n",
        "    usage_stats[\"portfolios_analyzed\"] += 1\n",
        "    usage_stats[\"bill\"] += 10  # e.g. ₹10 per portfolio analyzed\n",
        "\n",
        "    result = analyze_portfolio(portfolio)\n",
        "\n",
        "    # Update advice count and billing\n",
        "    usage_stats[\"advices_generated\"] += len(result)\n",
        "    usage_stats[\"bill\"] += len(result) * 2  # e.g. ₹2 per advice\n",
        "\n",
        "    return \"<br>\".join(result)\n",
        "\n",
        "@app.route(\"/usage\", methods=[\"GET\"])\n",
        "def show_usage():\n",
        "    return f\"\"\"\n",
        "    <h2>📊 Usage Stats</h2>\n",
        "    Portfolios analyzed: {usage_stats['portfolios_analyzed']}<br>\n",
        "    Advices generated: {usage_stats['advices_generated']}<br>\n",
        "    Total Bill: ₹{usage_stats['bill']}\n",
        "    \"\"\""
      ],
      "execution_count": 56,
      "outputs": [
        {
          "output_type": "stream",
          "name": "stdout",
          "text": [
            "Overwriting app.py\n"
          ]
        }
      ]
    },
    {
      "cell_type": "markdown",
      "metadata": {
        "id": "f6f2f54d"
      },
      "source": [
        "## Run flask app with gunicorn\n",
        "\n",
        "### Subtask:\n",
        "Execute the gunicorn command in cell `9oMZ9OaRdmEY` to run the modified Flask application.\n"
      ]
    },
    {
      "cell_type": "markdown",
      "metadata": {
        "id": "cc832d31"
      },
      "source": [
        "**Reasoning**:\n",
        "Execute the gunicorn command to run the modified Flask application.\n",
        "\n"
      ]
    },
    {
      "cell_type": "code",
      "metadata": {
        "colab": {
          "base_uri": "https://localhost:8080/"
        },
        "id": "570b61e5",
        "outputId": "a168b551-dd37-4b36-deb2-1105fa54f10e"
      },
      "source": [
        "!gunicorn -w 4 -b 0.0.0.0:5000 app:app"
      ],
      "execution_count": 54,
      "outputs": [
        {
          "output_type": "stream",
          "name": "stdout",
          "text": [
            "[2025-09-19 05:52:29 +0000] [17452] [INFO] Starting gunicorn 23.0.0\n",
            "[2025-09-19 05:52:29 +0000] [17452] [INFO] Listening at: http://0.0.0.0:5000 (17452)\n",
            "[2025-09-19 05:52:29 +0000] [17452] [INFO] Using worker: sync\n",
            "[2025-09-19 05:52:29 +0000] [17453] [INFO] Booting worker with pid: 17453\n",
            "[2025-09-19 05:52:29 +0000] [17454] [INFO] Booting worker with pid: 17454\n",
            "[2025-09-19 05:52:29 +0000] [17455] [INFO] Booting worker with pid: 17455\n",
            "[2025-09-19 05:52:29 +0000] [17456] [INFO] Booting worker with pid: 17456\n",
            "[2025-09-19 06:11:10 +0000] [17452] [INFO] Handling signal: int\n",
            "[2025-09-19 06:11:10 +0000] [17455] [INFO] Worker exiting (pid: 17455)\n",
            "[2025-09-19 06:11:10 +0000] [17454] [INFO] Worker exiting (pid: 17454)\n",
            "[2025-09-19 06:11:10 +0000] [17456] [INFO] Worker exiting (pid: 17456)\n",
            "[2025-09-19 06:11:10 +0000] [17453] [INFO] Worker exiting (pid: 17453)\n",
            "[2025-09-19 06:11:11 +0000] [17452] [INFO] Shutting down: Master\n"
          ]
        }
      ]
    },
    {
      "cell_type": "code",
      "source": [
        "app.run()\n"
      ],
      "metadata": {
        "colab": {
          "base_uri": "https://localhost:8080/"
        },
        "id": "WS_IIkscqTZ3",
        "outputId": "dcc056e0-d58c-4d45-90e9-c6ebcc3a451e"
      },
      "execution_count": 66,
      "outputs": [
        {
          "output_type": "stream",
          "name": "stdout",
          "text": [
            " * Serving Flask app '__main__'\n",
            " * Debug mode: off\n"
          ]
        },
        {
          "output_type": "stream",
          "name": "stderr",
          "text": [
            "INFO:werkzeug:\u001b[31m\u001b[1mWARNING: This is a development server. Do not use it in a production deployment. Use a production WSGI server instead.\u001b[0m\n",
            " * Running on http://127.0.0.1:5000\n",
            "INFO:werkzeug:\u001b[33mPress CTRL+C to quit\u001b[0m\n"
          ]
        }
      ]
    },
    {
      "cell_type": "code",
      "source": [],
      "metadata": {
        "id": "sGynbX8Mq7HR"
      },
      "execution_count": null,
      "outputs": []
    }
  ]
}